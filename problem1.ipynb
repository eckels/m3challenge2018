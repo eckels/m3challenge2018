{
 "cells": [
  {
   "cell_type": "code",
   "execution_count": 24,
   "metadata": {},
   "outputs": [
    {
     "name": "stdout",
     "output_type": "stream",
     "text": [
      "[0.14502829]\n",
      "0.013227968135046009\n"
     ]
    },
    {
     "data": {
      "image/png": "[encoded data removed]",
      "text/plain": [
       "<matplotlib.figure.Figure at 0x1a1d075668>"
      ]
     },
     "metadata": {},
     "output_type": "display_data"
    },
    {
     "name": "stdout",
     "output_type": "stream",
     "text": [
      "Population in millions here: 12\n",
      "\n",
      "Food wasted in millions of tons:  [1.75356747]\n",
      "Food wasted in millions of pounds:  [3.50713494e+09] \n",
      "\n",
      "Cereal/Grain Caloric Intake:  [4.76268925e+12]\n",
      "Roots/Tubers Caloric Intake:  [6.34791424e+11]\n",
      "Oilseeds and Pulses Caloric Intake:  [7.09844112e+12]\n",
      "Fruits and Vegetables Caloric Intake:  [5.29577376e+11]\n",
      "Meat Caloric Intake:  [2.28314485e+12]\n",
      "Fish and Seafood Caloric Intake:  [3.2721569e+12]\n",
      "Milk Caloric Intake:  [6.69862774e+11]\n",
      "\n",
      "Total Caloric Intake:  [1.92506637e+13]\n",
      "Children population in millions: 6\n",
      "Adult population in millions: 6\n",
      "\n",
      "Average caloric intake of this population:  1757.625\n",
      "Population fed annually in millions:  [2.50060661]\n"
     ]
    }
   ],
   "source": [
    "import pandas as pd  \n",
    "import numpy as np  \n",
    "import matplotlib.pyplot as plt  \n",
    "dataset = pd.read_csv('food_waste.csv')  \n",
    "\n",
    "X = dataset.iloc[:, :-1].values  \n",
    "y = dataset.iloc[:, 1].values  \n",
    "\n",
    "from sklearn.model_selection import train_test_split  \n",
    "X_train, X_test, y_train, y_test = train_test_split(X, y, test_size=0.2, random_state=0)\n",
    "\n",
    "from sklearn.linear_model import LinearRegression  \n",
    "regressor = LinearRegression()  \n",
    "regressor.fit(X_train, y_train)\n",
    "print(regressor.coef_)\n",
    "print(regressor.intercept_)\n",
    "\n",
    "def graph(formula, x_range):  \n",
    "    x = np.array(x_range)  \n",
    "    y = eval(formula)\n",
    "    dataset.plot(x='population', y='wasted', style='o')  \n",
    "    plt.title('Population vs Wasted')  \n",
    "    plt.xlabel('Population (in millions)')  \n",
    "    plt.ylabel('Food wasted (in millions of tons)') \n",
    "    plt.plot(x, y)  \n",
    "    plt.show()\n",
    "    \n",
    "graph('0.013227968135046009 + 0.14502829*x', range(0, 40))\n",
    "y_pred = regressor.predict(X_test)\n",
    "df = pd.DataFrame({'Actual': y_test, 'Predicted': y_pred})\n",
    "\n",
    "userx = int(input('Population in millions here: '))\n",
    "prediction[0] = regressor.predict(userx)\n",
    "\n",
    "print('\\nFood wasted in millions of tons: ', prediction)\n",
    "\n",
    "poundprediction = prediction * (10**6) * 2000\n",
    "\n",
    "print('Food wasted in millions of pounds: ', poundprediction, '\\n')\n",
    "\n",
    "graincal = poundprediction * 1358\n",
    "print('Cereal/Grain Caloric Intake: ', graincal)\n",
    "\n",
    "rootcal = poundprediction * 181\n",
    "print('Roots/Tubers Caloric Intake: ', rootcal)\n",
    "\n",
    "oilcal = poundprediction * 2024\n",
    "print('Oilseeds and Pulses Caloric Intake: ', oilcal)\n",
    "\n",
    "fruitcal = poundprediction * 151\n",
    "print('Fruits and Vegetables Caloric Intake: ', fruitcal)\n",
    "\n",
    "meatcal = poundprediction * 651\n",
    "print('Meat Caloric Intake: ', meatcal)\n",
    "\n",
    "fishcal = poundprediction * 933\n",
    "print('Fish and Seafood Caloric Intake: ', fishcal)\n",
    "\n",
    "milkcal = poundprediction * 191\n",
    "print('Milk Caloric Intake: ', milkcal)\n",
    "\n",
    "totalcal = graincal + rootcal + oilcal + fruitcal + meatcal + fishcal + milkcal\n",
    "print('\\nTotal Caloric Intake: ', totalcal)\n",
    "\n",
    "childpop = int(input('Children population in millions: '))\n",
    "adultpop = int(input('Adult population in millions: '))\n",
    "\n",
    "\n",
    "averagecalories = (childpop/(childpop + adultpop))*(1515.25) + (adultpop/(childpop + adultpop))*(2000)\n",
    "peoplefed = (totalcal/(averagecalories * 365))/((childpop + adultpop)*(10**6))\n",
    "\n",
    "print('\\nAverage caloric intake of this population: ', averagecalories)\n",
    "print('Population fed annually in millions: ', peoplefed)"
   ]
  },
  {
   "cell_type": "code",
   "execution_count": null,
   "metadata": {},
   "outputs": [],
   "source": []
  }
 ],
 "metadata": {
  "kernelspec": {
   "display_name": "Python 3",
   "language": "python",
   "name": "python3"
  },
  "language_info": {
   "codemirror_mode": {
    "name": "ipython",
    "version": 3
   },
   "file_extension": ".py",
   "mimetype": "text/x-python",
   "name": "python",
   "nbconvert_exporter": "python",
   "pygments_lexer": "ipython3",
   "version": "3.6.4"
  }
 },
 "nbformat": 4,
 "nbformat_minor": 2
}
