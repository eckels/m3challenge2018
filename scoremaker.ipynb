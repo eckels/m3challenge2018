{
 "cells": [
  {
   "cell_type": "code",
   "execution_count": 3,
   "metadata": {},
   "outputs": [
    {
     "name": "stdout",
     "output_type": "stream",
     "text": [
      "First Lat: 10\n",
      "First Long: 10\n",
      "Second Lat: 19\n",
      "Second Long: 13\n",
      "Food Rate: 1234\n",
      "Food Pounds: 4356\n",
      "\n",
      "Efficiency Score:  636.7772295170384\n",
      "\n",
      "Positive values means that donating to charity is more cost efficient, and negative values mean that composting is more cost effective\n"
     ]
    }
   ],
   "source": [
    "def haversine(coord1: object, coord2: object):\n",
    "    import math\n",
    "    #Coordinates in decimal degrees (e.g. 2.89078, 12.79797)\n",
    "    lat1,lon1 = coord1\n",
    "    lat2,lon2 = coord2\n",
    "    R = 6371000  # radius of Earth in meters\n",
    "    phi_1 = math.radians(lat1)\n",
    "    phi_2 = math.radians(lat2)\n",
    "    delta_phi = math.radians(lat2 - lat1)\n",
    "    delta_lambda = math.radians(lon2 - lon1)\n",
    "    a = math.sin(delta_phi / 2.0) ** 2 + math.cos(phi_1) * math.cos(phi_2) * math.sin(delta_lambda / 2.0) ** 2\n",
    " \n",
    "    c = 2 * math.atan2(math.sqrt(a), math.sqrt(1 - a))\n",
    "    meters = R * c  # output distance in meters\n",
    "    km = meters / 1000.0  # output distance in kilometers\n",
    "    meters = round(meters, 3)\n",
    "    km = round(km, 3)\n",
    "    #print(f\"Distance: {meters} m\")\n",
    "    #print(f\"Distance: {km} km\")\n",
    "    return km\n",
    "\n",
    "def score(lat1, long1, lat2, long2, foodrate, foodlbs):\n",
    "    topeqn = (foodlbs * foodrate) - (0.8575 * (( 1.17 * haversine([lat1, long1], [lat2, long2]) ) + 9.89))\n",
    "    boteqn = (1.9375) * foodlbs\n",
    "    fineqn = topeqn / boteqn\n",
    "    print('\\nEfficiency Score: ', fineqn)\n",
    "    print('\\nPositive values means that donating to charity is more cost efficient, and negative values mean that composting is more cost effective')\n",
    "\n",
    "    \n",
    "ulat1 = float(input('First Lat: '))\n",
    "ulong1 = float(input('First Long: '))\n",
    "ulat2 = float(input('Second Lat: '))\n",
    "ulong2 = float(input('Second Long: '))\n",
    "ufoodrate = float(input('Food Rate: '))\n",
    "ufoodlbs = float(input('Food Pounds: '))\n",
    "\n",
    "score(ulat1, ulong1, ulat2, ulong2, ufoodrate, ufoodlbs)"
   ]
  },
  {
   "cell_type": "code",
   "execution_count": null,
   "metadata": {},
   "outputs": [],
   "source": []
  }
 ],
 "metadata": {
  "kernelspec": {
   "display_name": "Python 3",
   "language": "python",
   "name": "python3"
  },
  "language_info": {
   "codemirror_mode": {
    "name": "ipython",
    "version": 3
   },
   "file_extension": ".py",
   "mimetype": "text/x-python",
   "name": "python",
   "nbconvert_exporter": "python",
   "pygments_lexer": "ipython3",
   "version": "3.6.4"
  }
 },
 "nbformat": 4,
 "nbformat_minor": 2
}
